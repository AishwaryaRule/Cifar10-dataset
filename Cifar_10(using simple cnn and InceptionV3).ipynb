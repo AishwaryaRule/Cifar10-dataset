{
 "cells": [
  {
   "cell_type": "markdown",
   "metadata": {
    "id": "I2PpfoIydgoD"
   },
   "source": [
    "##Loading data"
   ]
  },
  {
   "cell_type": "code",
   "execution_count": 79,
   "metadata": {
    "id": "FLijsrxDScxm"
   },
   "outputs": [],
   "source": [
    "import tensorflow as tf\n",
    "from tensorflow.keras import datasets, layers, models\n",
    "import matplotlib.pyplot as plt\n",
    "import numpy as np"
   ]
  },
  {
   "cell_type": "code",
   "execution_count": 80,
   "metadata": {
    "id": "q8FRT9_rTk2l"
   },
   "outputs": [],
   "source": [
    "(X_train, y_train), (X_test,y_test) = datasets.cifar10.load_data()"
   ]
  },
  {
   "cell_type": "code",
   "execution_count": 81,
   "metadata": {
    "colab": {
     "base_uri": "https://localhost:8080/"
    },
    "id": "JGAIAHn0gDLb",
    "outputId": "b2f1073d-3f26-4374-a085-21672e6b5ed4"
   },
   "outputs": [
    {
     "data": {
      "text/plain": [
       "array([[6],\n",
       "       [9],\n",
       "       [9],\n",
       "       ...,\n",
       "       [9],\n",
       "       [1],\n",
       "       [1]], dtype=uint8)"
      ]
     },
     "execution_count": 81,
     "metadata": {},
     "output_type": "execute_result"
    }
   ],
   "source": [
    "y_train"
   ]
  },
  {
   "cell_type": "code",
   "execution_count": 82,
   "metadata": {
    "colab": {
     "base_uri": "https://localhost:8080/"
    },
    "id": "lZXSzoJwTtsB",
    "outputId": "0d38cb5f-a683-4267-f618-fbf54883ea79"
   },
   "outputs": [
    {
     "data": {
      "text/plain": [
       "(50000, 1)"
      ]
     },
     "execution_count": 82,
     "metadata": {},
     "output_type": "execute_result"
    }
   ],
   "source": [
    "y_train.shape"
   ]
  },
  {
   "cell_type": "code",
   "execution_count": 83,
   "metadata": {
    "colab": {
     "base_uri": "https://localhost:8080/"
    },
    "id": "bZuljK5sT_jz",
    "outputId": "f2a01d26-671b-4f7e-e4b9-56cfe36de571"
   },
   "outputs": [
    {
     "data": {
      "text/plain": [
       "(50000, 32, 32, 3)"
      ]
     },
     "execution_count": 83,
     "metadata": {},
     "output_type": "execute_result"
    }
   ],
   "source": [
    "X_train.shape"
   ]
  },
  {
   "cell_type": "code",
   "execution_count": 84,
   "metadata": {
    "colab": {
     "base_uri": "https://localhost:8080/",
     "height": 447
    },
    "id": "3zvy_mtzXle9",
    "outputId": "3526affe-2fe6-4e80-effa-7a0f573bb2e5"
   },
   "outputs": [
    {
     "data": {
      "text/plain": [
       "<matplotlib.image.AxesImage at 0x7f03a05fb610>"
      ]
     },
     "execution_count": 84,
     "metadata": {},
     "output_type": "execute_result"
    },
    {
     "data": {
      "image/png": "[encoded data removed]",
      "text/plain": [
       "<Figure size 640x480 with 1 Axes>"
      ]
     },
     "metadata": {},
     "output_type": "display_data"
    }
   ],
   "source": [
    "plt.imshow(X_train[6])"
   ]
  },
  {
   "cell_type": "markdown",
   "metadata": {
    "id": "z6wDB0EX7LCp"
   },
   "source": [
    "Consider only 10000 rows"
   ]
  },
  {
   "cell_type": "code",
   "execution_count": 85,
   "metadata": {
    "id": "7MT-7sy-zrWq"
   },
   "outputs": [],
   "source": [
    "X_train1=X_train[:10000]\n",
    "y_train1=y_train[:10000]"
   ]
  },
  {
   "cell_type": "code",
   "execution_count": 86,
   "metadata": {
    "colab": {
     "base_uri": "https://localhost:8080/"
    },
    "id": "NQk4w9XIjsIo",
    "outputId": "e5a4b684-5a16-4654-862b-b638e360389d"
   },
   "outputs": [
    {
     "data": {
      "text/plain": [
       "(10000, 32, 32, 3)"
      ]
     },
     "execution_count": 86,
     "metadata": {},
     "output_type": "execute_result"
    }
   ],
   "source": [
    "X_train1.shape"
   ]
  },
  {
   "cell_type": "code",
   "execution_count": 87,
   "metadata": {
    "colab": {
     "base_uri": "https://localhost:8080/"
    },
    "id": "LASGQUmwju7I",
    "outputId": "a49ad8bd-a3ea-40b3-9377-1723347853a5"
   },
   "outputs": [
    {
     "data": {
      "text/plain": [
       "(10000, 1)"
      ]
     },
     "execution_count": 87,
     "metadata": {},
     "output_type": "execute_result"
    }
   ],
   "source": [
    "y_train1.shape"
   ]
  },
  {
   "cell_type": "code",
   "execution_count": 88,
   "metadata": {
    "id": "qPmjLObT7qWV"
   },
   "outputs": [],
   "source": [
    "X_test1=X_test[:1000]\n",
    "y_test1=y_test[:1000]"
   ]
  },
  {
   "cell_type": "markdown",
   "metadata": {
    "id": "LCW3WCNfdpGi"
   },
   "source": [
    "##Using InceptionV3"
   ]
  },
  {
   "cell_type": "markdown",
   "metadata": {
    "id": "fopKLGGR7H_Z"
   },
   "source": [
    "Resizing images"
   ]
  },
  {
   "cell_type": "code",
   "execution_count": 89,
   "metadata": {
    "id": "hPdjbO1Tihxz"
   },
   "outputs": [],
   "source": [
    "from tensorflow.keras.utils import img_to_array,array_to_img\n",
    "from PIL import Image"
   ]
  },
  {
   "cell_type": "code",
   "execution_count": 90,
   "metadata": {
    "id": "m1PbeG99ziaj"
   },
   "outputs": [],
   "source": [
    "def resize_image(images):\n",
    "  resized_img=[]\n",
    "  for image in images:\n",
    "    image=img_to_array(image)\n",
    "    image=Image.fromarray(image.astype('uint8'))\n",
    "    image=image.resize((75, 75))\n",
    "    image=img_to_array(image)\n",
    "    resized_img.append(image)\n",
    "  return np.array(resized_img)"
   ]
  },
  {
   "cell_type": "code",
   "execution_count": 91,
   "metadata": {
    "id": "-cvq7_JE1nJG"
   },
   "outputs": [],
   "source": [
    "X_train1=resize_image(X_train1)"
   ]
  },
  {
   "cell_type": "code",
   "execution_count": 92,
   "metadata": {
    "id": "8Q79Z6T17Tjm"
   },
   "outputs": [],
   "source": [
    "X_test1=resize_image(X_test1)"
   ]
  },
  {
   "cell_type": "code",
   "execution_count": 93,
   "metadata": {
    "colab": {
     "base_uri": "https://localhost:8080/"
    },
    "id": "RfjeGlX329UN",
    "outputId": "a644fd49-b929-441f-9203-113f2ae7551e"
   },
   "outputs": [
    {
     "data": {
      "text/plain": [
       "(10000, 75, 75, 3)"
      ]
     },
     "execution_count": 93,
     "metadata": {},
     "output_type": "execute_result"
    }
   ],
   "source": [
    "X_train1.shape"
   ]
  },
  {
   "cell_type": "code",
   "execution_count": 94,
   "metadata": {
    "colab": {
     "base_uri": "https://localhost:8080/"
    },
    "id": "D1lV1SHC7_vD",
    "outputId": "60e9d5a9-793f-4915-ce6d-2ff6692dc6b5"
   },
   "outputs": [
    {
     "data": {
      "text/plain": [
       "(1000, 75, 75, 3)"
      ]
     },
     "execution_count": 94,
     "metadata": {},
     "output_type": "execute_result"
    }
   ],
   "source": [
    "X_test1.shape"
   ]
  },
  {
   "cell_type": "markdown",
   "metadata": {
    "id": "X7G16IqR7O2F"
   },
   "source": [
    "Normalizing images"
   ]
  },
  {
   "cell_type": "code",
   "execution_count": 95,
   "metadata": {
    "id": "XCHtFTZs7BRf"
   },
   "outputs": [],
   "source": [
    "X_train1=X_train1.astype('float32') / 255\n",
    "X_test1=X_test1.astype('float32') / 255"
   ]
  },
  {
   "cell_type": "markdown",
   "metadata": {
    "id": "qX5Zn9-j8at_"
   },
   "source": [
    "Categorical for y"
   ]
  },
  {
   "cell_type": "code",
   "execution_count": 96,
   "metadata": {
    "id": "9KbVMFQu8h3h"
   },
   "outputs": [],
   "source": [
    "from tensorflow.keras.utils import to_categorical"
   ]
  },
  {
   "cell_type": "code",
   "execution_count": 97,
   "metadata": {
    "id": "Vd0OaaO87mCl"
   },
   "outputs": [],
   "source": [
    "y_test1 = to_categorical(y_test1,num_classes =10)\n",
    "y_train1 = to_categorical(y_train1,num_classes =10)"
   ]
  },
  {
   "cell_type": "code",
   "execution_count": 98,
   "metadata": {
    "colab": {
     "base_uri": "https://localhost:8080/"
    },
    "id": "XUxHPCvD8i8Z",
    "outputId": "7e0f367e-9242-43f2-d0a2-e0912ae8b667"
   },
   "outputs": [
    {
     "data": {
      "text/plain": [
       "(10000, 10)"
      ]
     },
     "execution_count": 98,
     "metadata": {},
     "output_type": "execute_result"
    }
   ],
   "source": [
    "y_train1.shape"
   ]
  },
  {
   "cell_type": "markdown",
   "metadata": {
    "id": "sbC8lfte8oQI"
   },
   "source": [
    "InceptionV3"
   ]
  },
  {
   "cell_type": "code",
   "execution_count": 99,
   "metadata": {
    "id": "cMA-uIFv8lkl"
   },
   "outputs": [],
   "source": [
    "from tensorflow.keras.applications.inception_v3 import InceptionV3"
   ]
  },
  {
   "cell_type": "code",
   "execution_count": 100,
   "metadata": {
    "id": "a631CJ6k86mv"
   },
   "outputs": [],
   "source": [
    "base_model=InceptionV3(weights=\"imagenet\",include_top=False,input_shape=(75,75,3))     #include_top indicates output of cnn(inceptionv3)"
   ]
  },
  {
   "cell_type": "markdown",
   "metadata": {
    "id": "mrV8W2Fj9qdW"
   },
   "source": [
    "######the layers from basemodel are already trained and should not be further trained, instead the base model layers should be freezed"
   ]
  },
  {
   "cell_type": "code",
   "execution_count": 101,
   "metadata": {
    "id": "JWHKo0Uo9bnk"
   },
   "outputs": [],
   "source": [
    "for layer in base_model.layers:\n",
    "  layer.trainable=False"
   ]
  },
  {
   "cell_type": "markdown",
   "metadata": {
    "id": "4SK7WLP9-GRW"
   },
   "source": [
    "Neural network with base_model ahead"
   ]
  },
  {
   "cell_type": "code",
   "execution_count": 102,
   "metadata": {
    "id": "Xh3_dUld98to"
   },
   "outputs": [],
   "source": [
    "from tensorflow.keras.models import Sequential"
   ]
  },
  {
   "cell_type": "code",
   "execution_count": 103,
   "metadata": {
    "id": "2ciIZ9ec-Ssy"
   },
   "outputs": [],
   "source": [
    "model=Sequential()"
   ]
  },
  {
   "cell_type": "code",
   "execution_count": 104,
   "metadata": {
    "id": "h5BU_7Qh-YBp"
   },
   "outputs": [],
   "source": [
    "from tensorflow.keras.layers import Dense,Flatten,Dropout"
   ]
  },
  {
   "cell_type": "code",
   "execution_count": 105,
   "metadata": {
    "id": "WAeB-iTJ-h8V"
   },
   "outputs": [],
   "source": [
    "model.add(base_model)"
   ]
  },
  {
   "cell_type": "markdown",
   "metadata": {
    "id": "4pfTO49w_Eu9"
   },
   "source": [
    "output of CNN must be flattened before giving it to ANN"
   ]
  },
  {
   "cell_type": "code",
   "execution_count": 106,
   "metadata": {
    "id": "VhQ0PJDG-zLy"
   },
   "outputs": [],
   "source": [
    "model.add(Flatten())"
   ]
  },
  {
   "cell_type": "code",
   "execution_count": 107,
   "metadata": {
    "id": "JdtCIcyc-62G"
   },
   "outputs": [],
   "source": [
    "model.add(Dense(200,activation='relu'))"
   ]
  },
  {
   "cell_type": "code",
   "execution_count": 108,
   "metadata": {
    "id": "EE0tkr3xWxcw"
   },
   "outputs": [],
   "source": [
    "model.add(Dense(100,activation='relu'))"
   ]
  },
  {
   "cell_type": "code",
   "execution_count": 109,
   "metadata": {
    "id": "1DxyyymZW1eb"
   },
   "outputs": [],
   "source": [
    "#model.add(Dense(60,activation='relu'))"
   ]
  },
  {
   "cell_type": "code",
   "execution_count": 110,
   "metadata": {
    "id": "J_Y-1t4tWyoJ"
   },
   "outputs": [],
   "source": [
    "model.add(Dropout(0.3))"
   ]
  },
  {
   "cell_type": "code",
   "execution_count": 111,
   "metadata": {
    "id": "jGBO5FED_XyT"
   },
   "outputs": [],
   "source": [
    "model.add(Dense(10,activation='softmax'))"
   ]
  },
  {
   "cell_type": "markdown",
   "metadata": {
    "id": "93n-9fHXAmcG"
   },
   "source": [
    "Training the model"
   ]
  },
  {
   "cell_type": "code",
   "execution_count": 112,
   "metadata": {
    "colab": {
     "base_uri": "https://localhost:8080/"
    },
    "id": "_yP4hrrB_fCj",
    "outputId": "99c87854-c778-4f10-9264-a9f4cecb74c2"
   },
   "outputs": [
    {
     "name": "stderr",
     "output_type": "stream",
     "text": [
      "WARNING:absl:`lr` is deprecated in Keras optimizer, please use `learning_rate` or use the legacy optimizer, e.g.,tf.keras.optimizers.legacy.Adam.\n"
     ]
    }
   ],
   "source": [
    "from tensorflow.keras.optimizers import Adam\n",
    "adam=Adam(lr=0.0001)"
   ]
  },
  {
   "cell_type": "code",
   "execution_count": 113,
   "metadata": {
    "id": "8a11xtzSAFPf"
   },
   "outputs": [],
   "source": [
    "model.compile(optimizer=adam,loss='categorical_crossentropy',metrics=['accuracy'])"
   ]
  },
  {
   "cell_type": "code",
   "execution_count": 114,
   "metadata": {
    "colab": {
     "base_uri": "https://localhost:8080/"
    },
    "id": "C_tTZkgLtWoG",
    "outputId": "a6c39fc6-141a-4387-e4bb-ee2493b05015"
   },
   "outputs": [
    {
     "data": {
      "text/plain": [
       "((10000, 75, 75, 3), (10000, 10))"
      ]
     },
     "execution_count": 114,
     "metadata": {},
     "output_type": "execute_result"
    }
   ],
   "source": [
    "X_train1.shape,y_train1.shape"
   ]
  },
  {
   "cell_type": "code",
   "execution_count": 115,
   "metadata": {
    "colab": {
     "base_uri": "https://localhost:8080/"
    },
    "id": "loUld-eTAeeS",
    "outputId": "425c64b1-5674-499d-d83e-228de82d3ee1"
   },
   "outputs": [
    {
     "name": "stdout",
     "output_type": "stream",
     "text": [
      "Epoch 1/10\n",
      "313/313 [==============================] - 24s 29ms/step - loss: 1.5710 - accuracy: 0.4452 - val_loss: 1.2746 - val_accuracy: 0.5720\n",
      "Epoch 2/10\n",
      "313/313 [==============================] - 5s 17ms/step - loss: 1.1397 - accuracy: 0.5986 - val_loss: 1.1657 - val_accuracy: 0.6130\n",
      "Epoch 3/10\n",
      "313/313 [==============================] - 6s 19ms/step - loss: 0.9595 - accuracy: 0.6691 - val_loss: 1.1622 - val_accuracy: 0.6180\n",
      "Epoch 4/10\n",
      "313/313 [==============================] - 6s 18ms/step - loss: 0.8038 - accuracy: 0.7212 - val_loss: 1.2900 - val_accuracy: 0.5720\n",
      "Epoch 5/10\n",
      "313/313 [==============================] - 6s 20ms/step - loss: 0.6589 - accuracy: 0.7722 - val_loss: 1.2998 - val_accuracy: 0.5840\n",
      "Epoch 6/10\n",
      "313/313 [==============================] - 5s 17ms/step - loss: 0.5160 - accuracy: 0.8254 - val_loss: 1.5025 - val_accuracy: 0.5950\n",
      "Epoch 7/10\n",
      "313/313 [==============================] - 6s 19ms/step - loss: 0.3983 - accuracy: 0.8597 - val_loss: 1.6005 - val_accuracy: 0.5720\n",
      "Epoch 8/10\n",
      "313/313 [==============================] - 6s 18ms/step - loss: 0.3021 - accuracy: 0.8981 - val_loss: 1.6394 - val_accuracy: 0.5840\n",
      "Epoch 9/10\n",
      "313/313 [==============================] - 6s 19ms/step - loss: 0.2092 - accuracy: 0.9306 - val_loss: 1.8480 - val_accuracy: 0.6000\n",
      "Epoch 10/10\n",
      "313/313 [==============================] - 6s 19ms/step - loss: 0.1735 - accuracy: 0.9453 - val_loss: 2.0090 - val_accuracy: 0.5840\n"
     ]
    }
   ],
   "source": [
    "history = model.fit(X_train1,y_train1,batch_size = 32, epochs = 10, validation_data = (X_test1,y_test1) )"
   ]
  },
  {
   "cell_type": "markdown",
   "metadata": {
    "id": "YcX3QHTgvetD"
   },
   "source": [
    "We got a maximum accuracy of 60% at epoch 9 using InceptionV3. \n",
    "Let us try using simple CNN."
   ]
  },
  {
   "cell_type": "code",
   "execution_count": 116,
   "metadata": {
    "colab": {
     "base_uri": "https://localhost:8080/",
     "height": 447
    },
    "id": "oqX2n9-aE-KY",
    "outputId": "12e84503-dfa9-4b45-a9dc-7a0c4791cebc"
   },
   "outputs": [
    {
     "data": {
      "text/plain": [
       "[<matplotlib.lines.Line2D at 0x7f0381f496a0>]"
      ]
     },
     "execution_count": 116,
     "metadata": {},
     "output_type": "execute_result"
    },
    {
     "data": {
      "image/png": "[encoded data removed]",
      "text/plain": [
       "<Figure size 640x480 with 1 Axes>"
      ]
     },
     "metadata": {},
     "output_type": "display_data"
    }
   ],
   "source": [
    "plt.plot(history.history['loss'],c = 'b')\n",
    "plt.plot(history.history['val_loss'],c = 'r')"
   ]
  },
  {
   "cell_type": "markdown",
   "metadata": {
    "id": "cpUjSl4DZXOL"
   },
   "source": [
    "Prediction\n"
   ]
  },
  {
   "cell_type": "code",
   "execution_count": 117,
   "metadata": {
    "colab": {
     "base_uri": "https://localhost:8080/"
    },
    "id": "EplYJoSdZ03h",
    "outputId": "89be9789-f21a-4bad-b7a9-67199b5c4b88"
   },
   "outputs": [
    {
     "name": "stdout",
     "output_type": "stream",
     "text": [
      "1/1 [==============================] - 2s 2s/step\n"
     ]
    }
   ],
   "source": [
    "lab=model.predict(X_test1[26].reshape((1,75,75,3)))"
   ]
  },
  {
   "cell_type": "code",
   "execution_count": 118,
   "metadata": {
    "colab": {
     "base_uri": "https://localhost:8080/"
    },
    "id": "pEWzfyEEaGdU",
    "outputId": "a31a6455-643b-41d4-e1a2-ae2cacfb4700"
   },
   "outputs": [
    {
     "name": "stdout",
     "output_type": "stream",
     "text": [
      "4\n"
     ]
    }
   ],
   "source": [
    "print(np.argmax(lab))"
   ]
  },
  {
   "cell_type": "code",
   "execution_count": 119,
   "metadata": {
    "colab": {
     "base_uri": "https://localhost:8080/"
    },
    "id": "w-XHiKK5csAm",
    "outputId": "6246334d-51ae-423a-a98a-4cb0580a29e3"
   },
   "outputs": [
    {
     "data": {
      "text/plain": [
       "4"
      ]
     },
     "execution_count": 119,
     "metadata": {},
     "output_type": "execute_result"
    }
   ],
   "source": [
    "y_test[26][0]"
   ]
  },
  {
   "cell_type": "code",
   "execution_count": 120,
   "metadata": {
    "colab": {
     "base_uri": "https://localhost:8080/",
     "height": 447
    },
    "id": "bwenTzgWbD_v",
    "outputId": "a50a7a44-37e5-4dd4-9b5e-075dc773ebd3"
   },
   "outputs": [
    {
     "data": {
      "text/plain": [
       "<matplotlib.image.AxesImage at 0x7f0381e83760>"
      ]
     },
     "execution_count": 120,
     "metadata": {},
     "output_type": "execute_result"
    },
    {
     "data": {
      "image/png": "[encoded data removed]",
      "text/plain": [
       "<Figure size 640x480 with 1 Axes>"
      ]
     },
     "metadata": {},
     "output_type": "display_data"
    }
   ],
   "source": [
    "plt.imshow(X_test[26])"
   ]
  },
  {
   "cell_type": "markdown",
   "metadata": {
    "id": "N0TTEFaYdyB3"
   },
   "source": [
    "##Using only CNN"
   ]
  },
  {
   "cell_type": "code",
   "execution_count": 121,
   "metadata": {
    "id": "e07aeOISbOu-"
   },
   "outputs": [],
   "source": [
    "from tensorflow.keras.layers import Conv2D,MaxPooling2D,Activation "
   ]
  },
  {
   "cell_type": "code",
   "execution_count": 122,
   "metadata": {
    "colab": {
     "base_uri": "https://localhost:8080/"
    },
    "id": "rKXvvSpcj53l",
    "outputId": "1eebe615-2525-4da9-ffea-76cddc716ed0"
   },
   "outputs": [
    {
     "data": {
      "text/plain": [
       "(50000, 32, 32, 3)"
      ]
     },
     "execution_count": 122,
     "metadata": {},
     "output_type": "execute_result"
    }
   ],
   "source": [
    "X_train.shape"
   ]
  },
  {
   "cell_type": "code",
   "execution_count": 133,
   "metadata": {
    "colab": {
     "base_uri": "https://localhost:8080/"
    },
    "id": "8EwdGGPSj8vs",
    "outputId": "ab7bac56-e1b0-4e31-b970-8f18bd0296b2"
   },
   "outputs": [
    {
     "data": {
      "text/plain": [
       "(50000, 1)"
      ]
     },
     "execution_count": 133,
     "metadata": {},
     "output_type": "execute_result"
    }
   ],
   "source": [
    "y_train.shape"
   ]
  },
  {
   "cell_type": "code",
   "execution_count": 134,
   "metadata": {
    "colab": {
     "base_uri": "https://localhost:8080/"
    },
    "id": "mDoT4EVAkMr6",
    "outputId": "c73eb71a-f1b4-4c78-8deb-1d11f07ff59a"
   },
   "outputs": [
    {
     "data": {
      "text/plain": [
       "array([[6],\n",
       "       [9],\n",
       "       [9],\n",
       "       [4],\n",
       "       [1]], dtype=uint8)"
      ]
     },
     "execution_count": 134,
     "metadata": {},
     "output_type": "execute_result"
    }
   ],
   "source": [
    "y_train[:5]"
   ]
  },
  {
   "cell_type": "code",
   "execution_count": 135,
   "metadata": {
    "colab": {
     "base_uri": "https://localhost:8080/"
    },
    "id": "oSWVO4makuFN",
    "outputId": "b3777f60-e4ae-4390-9f7e-165e2145092b"
   },
   "outputs": [
    {
     "data": {
      "text/plain": [
       "(10000, 1)"
      ]
     },
     "execution_count": 135,
     "metadata": {},
     "output_type": "execute_result"
    }
   ],
   "source": [
    "y_test.shape"
   ]
  },
  {
   "cell_type": "code",
   "execution_count": 136,
   "metadata": {
    "colab": {
     "base_uri": "https://localhost:8080/"
    },
    "id": "US2yhYVHk0L3",
    "outputId": "d1852a1a-5290-4aad-fbdd-2929ffd16f42"
   },
   "outputs": [
    {
     "data": {
      "text/plain": [
       "(10000, 32, 32, 3)"
      ]
     },
     "execution_count": 136,
     "metadata": {},
     "output_type": "execute_result"
    }
   ],
   "source": [
    "X_test.shape"
   ]
  },
  {
   "cell_type": "code",
   "execution_count": 123,
   "metadata": {
    "id": "Ii90cX3piCD2"
   },
   "outputs": [],
   "source": [
    "X_train=X_train / 255.0\n",
    "X_test=X_test / 255.0"
   ]
  },
  {
   "cell_type": "code",
   "execution_count": 124,
   "metadata": {
    "id": "AuUjb3YJf26C"
   },
   "outputs": [],
   "source": [
    "model1=Sequential()"
   ]
  },
  {
   "cell_type": "code",
   "execution_count": 125,
   "metadata": {
    "id": "xfj6W07sf5w6"
   },
   "outputs": [],
   "source": [
    "model1.add(Conv2D(32,(3,3),input_shape=(32,32,3)))\n",
    "model1.add(Activation(\"relu\"))\n",
    "model1.add(MaxPooling2D(pool_size=(2,2)))"
   ]
  },
  {
   "cell_type": "code",
   "execution_count": 126,
   "metadata": {
    "id": "lfIyxGkyhRqV"
   },
   "outputs": [],
   "source": [
    "model1.add(Conv2D(32,(3,3)))\n",
    "model1.add(Activation(\"relu\"))\n",
    "model1.add(MaxPooling2D(pool_size=(2,2)))"
   ]
  },
  {
   "cell_type": "code",
   "execution_count": 127,
   "metadata": {
    "id": "fSLphMLthZub"
   },
   "outputs": [],
   "source": [
    "model1.add(Flatten())"
   ]
  },
  {
   "cell_type": "code",
   "execution_count": 128,
   "metadata": {
    "id": "s_tSsV46hdm2"
   },
   "outputs": [],
   "source": [
    "model1.add(Dense(70,activation=\"relu\"))"
   ]
  },
  {
   "cell_type": "code",
   "execution_count": 129,
   "metadata": {
    "id": "ZEDMPxNwhxVJ"
   },
   "outputs": [],
   "source": [
    "model1.add(Dense(10,activation=\"softmax\"))"
   ]
  },
  {
   "cell_type": "code",
   "execution_count": 130,
   "metadata": {
    "id": "19Mi7526iU6A"
   },
   "outputs": [],
   "source": [
    "model1.compile(optimizer=\"adam\",loss=\"sparse_categorical_crossentropy\",metrics=[\"accuracy\"])"
   ]
  },
  {
   "cell_type": "code",
   "execution_count": 131,
   "metadata": {
    "colab": {
     "base_uri": "https://localhost:8080/"
    },
    "id": "cQBtCXnYij0C",
    "outputId": "fb660b3d-6bd4-46fb-eaaf-e5be3c839eab"
   },
   "outputs": [
    {
     "name": "stdout",
     "output_type": "stream",
     "text": [
      "Epoch 1/25\n",
      "1563/1563 [==============================] - 11s 5ms/step - loss: 1.5073 - accuracy: 0.4569 - val_loss: 1.2656 - val_accuracy: 0.5436\n",
      "Epoch 2/25\n",
      "1563/1563 [==============================] - 7s 4ms/step - loss: 1.1818 - accuracy: 0.5849 - val_loss: 1.1040 - val_accuracy: 0.6103\n",
      "Epoch 3/25\n",
      "1563/1563 [==============================] - 7s 5ms/step - loss: 1.0422 - accuracy: 0.6353 - val_loss: 1.0039 - val_accuracy: 0.6487\n",
      "Epoch 4/25\n",
      "1563/1563 [==============================] - 7s 5ms/step - loss: 0.9627 - accuracy: 0.6639 - val_loss: 0.9873 - val_accuracy: 0.6552\n",
      "Epoch 5/25\n",
      "1563/1563 [==============================] - 7s 5ms/step - loss: 0.9022 - accuracy: 0.6837 - val_loss: 0.9560 - val_accuracy: 0.6702\n",
      "Epoch 6/25\n",
      "1563/1563 [==============================] - 8s 5ms/step - loss: 0.8489 - accuracy: 0.7044 - val_loss: 0.9292 - val_accuracy: 0.6813\n",
      "Epoch 7/25\n",
      "1563/1563 [==============================] - 7s 4ms/step - loss: 0.8110 - accuracy: 0.7172 - val_loss: 0.9245 - val_accuracy: 0.6773\n",
      "Epoch 8/25\n",
      "1563/1563 [==============================] - 7s 5ms/step - loss: 0.7743 - accuracy: 0.7309 - val_loss: 0.9363 - val_accuracy: 0.6769\n",
      "Epoch 9/25\n",
      "1563/1563 [==============================] - 7s 4ms/step - loss: 0.7397 - accuracy: 0.7426 - val_loss: 0.9306 - val_accuracy: 0.6870\n",
      "Epoch 10/25\n",
      "1563/1563 [==============================] - 8s 5ms/step - loss: 0.7129 - accuracy: 0.7525 - val_loss: 0.9120 - val_accuracy: 0.6895\n",
      "Epoch 11/25\n",
      "1563/1563 [==============================] - 8s 5ms/step - loss: 0.6831 - accuracy: 0.7615 - val_loss: 0.9189 - val_accuracy: 0.6933\n",
      "Epoch 12/25\n",
      "1563/1563 [==============================] - 7s 5ms/step - loss: 0.6574 - accuracy: 0.7695 - val_loss: 0.9691 - val_accuracy: 0.6847\n",
      "Epoch 13/25\n",
      "1563/1563 [==============================] - 8s 5ms/step - loss: 0.6346 - accuracy: 0.7739 - val_loss: 0.9532 - val_accuracy: 0.6863\n",
      "Epoch 14/25\n",
      "1563/1563 [==============================] - 7s 4ms/step - loss: 0.6066 - accuracy: 0.7866 - val_loss: 0.9906 - val_accuracy: 0.6800\n",
      "Epoch 15/25\n",
      "1563/1563 [==============================] - 8s 5ms/step - loss: 0.5856 - accuracy: 0.7938 - val_loss: 0.9899 - val_accuracy: 0.6843\n",
      "Epoch 16/25\n",
      "1563/1563 [==============================] - 7s 5ms/step - loss: 0.5628 - accuracy: 0.8019 - val_loss: 0.9919 - val_accuracy: 0.6884\n",
      "Epoch 17/25\n",
      "1563/1563 [==============================] - 7s 4ms/step - loss: 0.5425 - accuracy: 0.8077 - val_loss: 1.0202 - val_accuracy: 0.6840\n",
      "Epoch 18/25\n",
      "1563/1563 [==============================] - 8s 5ms/step - loss: 0.5218 - accuracy: 0.8139 - val_loss: 1.0475 - val_accuracy: 0.6907\n",
      "Epoch 19/25\n",
      "1563/1563 [==============================] - 7s 4ms/step - loss: 0.5016 - accuracy: 0.8225 - val_loss: 1.1294 - val_accuracy: 0.6726\n",
      "Epoch 20/25\n",
      "1563/1563 [==============================] - 8s 5ms/step - loss: 0.4809 - accuracy: 0.8281 - val_loss: 1.0979 - val_accuracy: 0.6759\n",
      "Epoch 21/25\n",
      "1563/1563 [==============================] - 7s 5ms/step - loss: 0.4627 - accuracy: 0.8359 - val_loss: 1.1301 - val_accuracy: 0.6789\n",
      "Epoch 22/25\n",
      "1563/1563 [==============================] - 7s 5ms/step - loss: 0.4473 - accuracy: 0.8417 - val_loss: 1.1423 - val_accuracy: 0.6731\n",
      "Epoch 23/25\n",
      "1563/1563 [==============================] - 8s 5ms/step - loss: 0.4242 - accuracy: 0.8486 - val_loss: 1.2349 - val_accuracy: 0.6733\n",
      "Epoch 24/25\n",
      "1563/1563 [==============================] - 7s 5ms/step - loss: 0.4101 - accuracy: 0.8545 - val_loss: 1.1924 - val_accuracy: 0.6778\n",
      "Epoch 25/25\n",
      "1563/1563 [==============================] - 8s 5ms/step - loss: 0.3937 - accuracy: 0.8589 - val_loss: 1.2464 - val_accuracy: 0.6729\n"
     ]
    }
   ],
   "source": [
    "history1=model1.fit(X_train,y_train,epochs=25,batch_size=32,validation_data=(X_test,y_test))"
   ]
  },
  {
   "cell_type": "markdown",
   "metadata": {
    "id": "soWZt9K_vz0j"
   },
   "source": [
    "Here, at the epoch 18 we got a validation accuracy of 69% which significantly large than what we got using InceptionV3"
   ]
  },
  {
   "cell_type": "code",
   "execution_count": 132,
   "metadata": {
    "colab": {
     "base_uri": "https://localhost:8080/",
     "height": 447
    },
    "id": "uoXhteotkOJs",
    "outputId": "b58d62d5-fdf5-4fd2-bdef-3631f47c8e60"
   },
   "outputs": [
    {
     "data": {
      "text/plain": [
       "[<matplotlib.lines.Line2D at 0x7f03a019e760>]"
      ]
     },
     "execution_count": 132,
     "metadata": {},
     "output_type": "execute_result"
    },
    {
     "data": {
      "image/png": "[encoded data removed]",
      "text/plain": [
       "<Figure size 640x480 with 1 Axes>"
      ]
     },
     "metadata": {},
     "output_type": "display_data"
    }
   ],
   "source": [
    "plt.plot(history1.history['loss'],c = 'b')\n",
    "plt.plot(history1.history['val_loss'],c = 'r')"
   ]
  },
  {
   "cell_type": "code",
   "execution_count": null,
   "metadata": {
    "id": "O2PUOMpMrPBi"
   },
   "outputs": [],
   "source": []
  }
 ],
 "metadata": {
  "accelerator": "GPU",
  "colab": {
   "provenance": []
  },
  "gpuClass": "standard",
  "kernelspec": {
   "display_name": "Python 3 (ipykernel)",
   "language": "python",
   "name": "python3"
  },
  "language_info": {
   "codemirror_mode": {
    "name": "ipython",
    "version": 3
   },
   "file_extension": ".py",
   "mimetype": "text/x-python",
   "name": "python",
   "nbconvert_exporter": "python",
   "pygments_lexer": "ipython3",
   "version": "3.9.13"
  }
 },
 "nbformat": 4,
 "nbformat_minor": 1
}
